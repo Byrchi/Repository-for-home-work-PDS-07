{
 "cells": [
  {
   "cell_type": "markdown",
   "id": "2d5f35d0",
   "metadata": {},
   "source": [
    "* * *"
   ]
  },
  {
   "cell_type": "markdown",
   "id": "cffe62e6",
   "metadata": {},
   "source": [
    "### Таблиця зроблена за допомогою шаблонізатора MARKDOWN"
   ]
  },
  {
   "cell_type": "markdown",
   "id": "04584b5e",
   "metadata": {},
   "source": [
    "| year   | rank  | company              | revenue   | profit   |\n",
    "|:-----  | :----:|    :----:            |  :----:   |    ----: |\n",
    "|1955    |229    |Norton                | 135.0     | N.A      |\n",
    "|1955    |291    |Sclitz Brewing        | 100.0     | N.A      |\n",
    "|1955    |295    |Pacfiic Vegetable Oil | 97.9      | N.A      |\n",
    "|1955    |297    |Liebmann              | 96.0      | N.A      |\n",
    "|1955    |353    |Minneapolis           | 77.4      | N.A      |"
   ]
  },
  {
   "cell_type": "markdown",
   "id": "dc4f0ec5",
   "metadata": {},
   "source": [
    "***\n"
   ]
  },
  {
   "cell_type": "markdown",
   "id": "6e14608c",
   "metadata": {},
   "source": [
    "## Таблиця зроблена за допомогою HTML розмітки "
   ]
  },
  {
   "cell_type": "markdown",
   "id": "3b7c6ffa",
   "metadata": {},
   "source": [
    "<table class=\"table table-bordered table-dark\">\n",
    "  <thead>\n",
    "    <tr>\n",
    "      <th scope=\"col\">year</th>\n",
    "      <th scope=\"col\">rank</th>\n",
    "      <th scope=\"col\">company</th>\n",
    "      <th scope=\"col\">revenue</th>\n",
    "      <th scope=\"col\">profit</th>\n",
    "    </tr>\n",
    "  </thead>\n",
    "  <tbody>\n",
    "    <tr>\n",
    "      <th>1955</th>\n",
    "      <td>229</td>\n",
    "      <td>Norton</td>\n",
    "      <td>135.0</td>\n",
    "      <td>N.A.</td>\n",
    "    </tr>\n",
    "    <tr>\n",
    "      <th>1955</th>\n",
    "      <td>291</td>\n",
    "      <td>Sclitz Brewing</td>\n",
    "      <td>100.0</td>\n",
    "      <td>N.A.</td>\n",
    "    </tr>\n",
    "   <tr>\n",
    "      <th>1955</th>\n",
    "      <td>295</td>\n",
    "      <td>Pacfiic Vegetable Oil</td>\n",
    "      <td>97.9</td>\n",
    "      <td>N.A.</td>\n",
    "    </tr>\n",
    "      <tr>\n",
    "    <th>1955</th>\n",
    "      <td>297</td>\n",
    "      <td>Liebmann</td>\n",
    "      <td>96.0</td>\n",
    "      <td>N.A.</td>\n",
    "    </tr>\n",
    "      <tr>\n",
    "      <th>1955</th>\n",
    "      <td>353</td>\n",
    "      <td>Minneapolis</td>\n",
    "      <td>77.4</td>\n",
    "      <td>N.A.</td>\n",
    "    </tr>\n",
    "  </tbody>\n",
    "</table>"
   ]
  },
  {
   "cell_type": "markdown",
   "id": "b1653950",
   "metadata": {},
   "source": [
    "***\n"
   ]
  },
  {
   "cell_type": "code",
   "execution_count": null,
   "id": "341bbee1",
   "metadata": {},
   "outputs": [],
   "source": []
  }
 ],
 "metadata": {
  "kernelspec": {
   "display_name": "Python 3 (ipykernel)",
   "language": "python",
   "name": "python3"
  },
  "language_info": {
   "codemirror_mode": {
    "name": "ipython",
    "version": 3
   },
   "file_extension": ".py",
   "mimetype": "text/x-python",
   "name": "python",
   "nbconvert_exporter": "python",
   "pygments_lexer": "ipython3",
   "version": "3.10.11"
  }
 },
 "nbformat": 4,
 "nbformat_minor": 5
}
