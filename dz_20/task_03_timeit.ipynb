{
 "cells": [
  {
   "cell_type": "code",
   "execution_count": 2,
   "id": "dd112c89",
   "metadata": {},
   "outputs": [],
   "source": [
    "import random\n",
    "from random_words import RandomWords\n",
    "import time"
   ]
  },
  {
   "cell_type": "code",
   "execution_count": 3,
   "id": "f9e20c0c",
   "metadata": {},
   "outputs": [],
   "source": [
    "int_list = []\n",
    "float_list = []\n",
    "str_list = []\n",
    "word = RandomWords()\n",
    "for i in range(0, 5000):\n",
    "    int_list.append(random.randint(0, 1000))\n",
    "    float_list.append(random.uniform(0.01, 100.0))\n",
    "    str_list.append(word.random_word())"
   ]
  },
  {
   "cell_type": "code",
   "execution_count": 4,
   "id": "a5c23916",
   "metadata": {},
   "outputs": [],
   "source": [
    "def bubble_sort(data):\n",
    "    lenght = len(data)\n",
    "    for iIndex in range(lenght):\n",
    "        swapped = False\n",
    "        for jIndeex in range(0, lenght - iIndex -1):\n",
    "            if data [jIndeex] > data[jIndeex + 1]:\n",
    "                data[jIndeex], data[jIndeex + 1] =  data[jIndeex + 1], data[jIndeex]\n",
    "                swapped = True\n",
    "        if not swapped:\n",
    "            break"
   ]
  },
  {
   "cell_type": "markdown",
   "id": "698f05af",
   "metadata": {},
   "source": [
    "Щоб вирахувати середній час роботи функції використовую флаг (-r) з кількістю повторювання 20 раз"
   ]
  },
  {
   "cell_type": "code",
   "execution_count": 29,
   "id": "4704074e",
   "metadata": {
    "scrolled": true
   },
   "outputs": [
    {
     "name": "stdout",
     "output_type": "stream",
     "text": [
      "238 µs ± 4.83 µs per loop (mean ± std. dev. of 20 runs, 1,000 loops each)\n"
     ]
    }
   ],
   "source": [
    "%%timeit -r 20\n",
    "\n",
    "bubble_sort(int_list)"
   ]
  },
  {
   "cell_type": "code",
   "execution_count": 28,
   "id": "636f648e",
   "metadata": {},
   "outputs": [
    {
     "name": "stdout",
     "output_type": "stream",
     "text": [
      "241 µs ± 5.19 µs per loop (mean ± std. dev. of 20 runs, 1,000 loops each)\n"
     ]
    }
   ],
   "source": [
    "%%timeit -r 20\n",
    "\n",
    "bubble_sort(float_list)"
   ]
  },
  {
   "cell_type": "code",
   "execution_count": 27,
   "id": "cf1419fc",
   "metadata": {
    "scrolled": true
   },
   "outputs": [
    {
     "name": "stdout",
     "output_type": "stream",
     "text": [
      "289 µs ± 6.53 µs per loop (mean ± std. dev. of 20 runs, 1,000 loops each)\n"
     ]
    }
   ],
   "source": [
    "%%timeit -r 20\n",
    "\n",
    "bubble_sort(str_list)"
   ]
  }
 ],
 "metadata": {
  "kernelspec": {
   "display_name": "Python 3 (ipykernel)",
   "language": "python",
   "name": "python3"
  },
  "language_info": {
   "codemirror_mode": {
    "name": "ipython",
    "version": 3
   },
   "file_extension": ".py",
   "mimetype": "text/x-python",
   "name": "python",
   "nbconvert_exporter": "python",
   "pygments_lexer": "ipython3",
   "version": "3.10.11"
  }
 },
 "nbformat": 4,
 "nbformat_minor": 5
}
