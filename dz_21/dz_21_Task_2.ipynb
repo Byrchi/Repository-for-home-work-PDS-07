{
 "cells": [
  {
   "cell_type": "markdown",
   "id": "7d9fb52b",
   "metadata": {},
   "source": [
    "## Елементарні перетворення матриці"
   ]
  },
  {
   "cell_type": "code",
   "execution_count": 41,
   "id": "22bc6616",
   "metadata": {},
   "outputs": [],
   "source": [
    "A = [\n",
    "    [4, 2, 0], \n",
    "    [1, 3, 2],\n",
    "    [-1, 3, 10]\n",
    "    ]"
   ]
  },
  {
   "cell_type": "code",
   "execution_count": 42,
   "id": "cf241bf2",
   "metadata": {},
   "outputs": [
    {
     "name": "stdout",
     "output_type": "stream",
     "text": [
      "[4, 2, 0]\n",
      "[1, 3, 2]\n",
      "[-1, 3, 10]\n"
     ]
    }
   ],
   "source": [
    "for i in A:\n",
    "    print(i)"
   ]
  },
  {
   "cell_type": "markdown",
   "id": "8630f4f8",
   "metadata": {},
   "source": [
    "##### Змінимо 1 та 2 рядок"
   ]
  },
  {
   "cell_type": "code",
   "execution_count": 43,
   "id": "172d2837",
   "metadata": {},
   "outputs": [],
   "source": [
    "A[0], A[1] =  A[1], A[0]"
   ]
  },
  {
   "cell_type": "code",
   "execution_count": 44,
   "id": "727661e1",
   "metadata": {
    "scrolled": true
   },
   "outputs": [
    {
     "name": "stdout",
     "output_type": "stream",
     "text": [
      "[1, 3, 2]\n",
      "[4, 2, 0]\n",
      "[-1, 3, 10]\n"
     ]
    }
   ],
   "source": [
    "for i in A:\n",
    "    print(i)"
   ]
  },
  {
   "cell_type": "markdown",
   "id": "d4dc98e4",
   "metadata": {},
   "source": [
    "##### До другого рядка додаємо перший , помножений на -4 ; до 3 рядко дожаємо 1"
   ]
  },
  {
   "cell_type": "code",
   "execution_count": 45,
   "id": "e75d3d8b",
   "metadata": {},
   "outputs": [],
   "source": [
    "for i in range(len(A)):\n",
    "    A[1][i] = A[1][i]+(A[0][i]*(-4))\n",
    "    A[2][i] = A[2][i]+A[0][i]\n",
    "        "
   ]
  },
  {
   "cell_type": "code",
   "execution_count": 46,
   "id": "607c6632",
   "metadata": {
    "scrolled": true
   },
   "outputs": [
    {
     "name": "stdout",
     "output_type": "stream",
     "text": [
      "[1, 3, 2]\n",
      "[0, -10, -8]\n",
      "[0, 6, 12]\n"
     ]
    }
   ],
   "source": [
    "for i in A:\n",
    "    print(i)"
   ]
  },
  {
   "cell_type": "markdown",
   "id": "40466ce8",
   "metadata": {},
   "source": [
    "##### 2-ий рядок ділимо на -2, 3 рядок ділимо на 6"
   ]
  },
  {
   "cell_type": "code",
   "execution_count": 47,
   "id": "1a4fff3e",
   "metadata": {},
   "outputs": [],
   "source": [
    "for i in range(len(A)):\n",
    "    A[1][i] = int(A[1][i]/-2)\n",
    "    A[2][i] = int(A[2][i]/6)"
   ]
  },
  {
   "cell_type": "code",
   "execution_count": 48,
   "id": "078f66be",
   "metadata": {
    "scrolled": true
   },
   "outputs": [
    {
     "name": "stdout",
     "output_type": "stream",
     "text": [
      "[1, 3, 2]\n",
      "[0, 5, 4]\n",
      "[0, 1, 2]\n"
     ]
    }
   ],
   "source": [
    "for i in A:\n",
    "    print(i)"
   ]
  },
  {
   "cell_type": "markdown",
   "id": "c738ec6c",
   "metadata": {},
   "source": [
    "#####  міняємо 2 та 3 рядок місцями"
   ]
  },
  {
   "cell_type": "code",
   "execution_count": 49,
   "id": "05666baa",
   "metadata": {},
   "outputs": [],
   "source": [
    "A[1], A[2] =  A[2], A[1]"
   ]
  },
  {
   "cell_type": "code",
   "execution_count": 51,
   "id": "a2147e6f",
   "metadata": {
    "scrolled": true
   },
   "outputs": [
    {
     "name": "stdout",
     "output_type": "stream",
     "text": [
      "[1, 3, 2]\n",
      "[0, 1, 2]\n",
      "[0, 5, 4]\n"
     ]
    }
   ],
   "source": [
    "for i in A:\n",
    "    print(i)"
   ]
  },
  {
   "cell_type": "markdown",
   "id": "e8048533",
   "metadata": {},
   "source": [
    "##### до 3-ого рядка додаємо другий , помножений на -5"
   ]
  },
  {
   "cell_type": "code",
   "execution_count": 52,
   "id": "e456b410",
   "metadata": {},
   "outputs": [],
   "source": [
    "for i in range(len(A)):\n",
    "    A[2][i] = A[2][i]+(A[1][i]*(-5))"
   ]
  },
  {
   "cell_type": "code",
   "execution_count": 53,
   "id": "0f335d70",
   "metadata": {},
   "outputs": [
    {
     "name": "stdout",
     "output_type": "stream",
     "text": [
      "[1, 3, 2]\n",
      "[0, 1, 2]\n",
      "[0, 0, -6]\n"
     ]
    }
   ],
   "source": [
    "for i in A:\n",
    "    print(i)"
   ]
  },
  {
   "cell_type": "markdown",
   "id": "e67ba800",
   "metadata": {},
   "source": []
  }
 ],
 "metadata": {
  "kernelspec": {
   "display_name": "Python 3 (ipykernel)",
   "language": "python",
   "name": "python3"
  },
  "language_info": {
   "codemirror_mode": {
    "name": "ipython",
    "version": 3
   },
   "file_extension": ".py",
   "mimetype": "text/x-python",
   "name": "python",
   "nbconvert_exporter": "python",
   "pygments_lexer": "ipython3",
   "version": "3.10.11"
  }
 },
 "nbformat": 4,
 "nbformat_minor": 5
}
