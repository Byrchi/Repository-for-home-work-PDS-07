{
 "cells": [
  {
   "attachments": {
    "Figure_1.png": {
     "image/png": "[encoded data removed]"
    }
   },
   "cell_type": "markdown",
   "id": "d8bfbc97",
   "metadata": {},
   "source": [
    "![Figure_1.png](attachment:Figure_1.png)"
   ]
  },
  {
   "cell_type": "markdown",
   "id": "ef7ff06e",
   "metadata": {},
   "source": [
    "# Задача"
   ]
  },
  {
   "cell_type": "markdown",
   "id": "f8e47a2b",
   "metadata": {},
   "source": [
    "Визначити потужніть множини яка складається з перетину трьох підмножин (Математика, Хімія, Фізика)"
   ]
  },
  {
   "cell_type": "markdown",
   "id": "26f34e23",
   "metadata": {},
   "source": [
    "####  Визначення загальної кількості студентів у групі"
   ]
  },
  {
   "cell_type": "code",
   "execution_count": 253,
   "id": "d597de6e",
   "metadata": {
    "scrolled": true
   },
   "outputs": [
    {
     "name": "stdout",
     "output_type": "stream",
     "text": [
      "{'8', '36', '6', '12', '3', '10', '5', '4', '1', '16', '19', '21', '30', '33', '37', '28', '26', '27', '20', '24', '17', '2', '18', '25', '9', '14', '32', '34', '35', '31', '11', '23', '22', '15', '29', '13', '7'}\n"
     ]
    }
   ],
   "source": [
    "s = list(range(1,38))\n",
    "students = [str(item) for item in s]\n",
    "All_student = set(students)\n",
    "print(All_student)"
   ]
  },
  {
   "cell_type": "markdown",
   "id": "96b62647",
   "metadata": {},
   "source": [
    "Маємо множину студентів зі 37 чоловік. Умовно позначених числом."
   ]
  },
  {
   "cell_type": "markdown",
   "id": "4346a367",
   "metadata": {},
   "source": [
    "####  Визначаємо пусті множини основних предметів та їх перетенів, для того щоб наповнити їх студентами з Надмножини.\n"
   ]
  },
  {
   "cell_type": "code",
   "execution_count": 217,
   "id": "9139f5b0",
   "metadata": {},
   "outputs": [],
   "source": [
    "Math = set()\n",
    "Chem = set()\n",
    "Phys = set()\n",
    "Math_Chem = set()\n",
    "Math_Phys = set()\n",
    "Chem_Phys = set()\n",
    "Math_Chem_Phys = set()"
   ]
  },
  {
   "cell_type": "markdown",
   "id": "7ac0765c",
   "metadata": {},
   "source": [
    "#### Додатково  визначаємо згідно умови задачі розмір цих множин , тобто їх довжина."
   ]
  },
  {
   "cell_type": "code",
   "execution_count": 218,
   "id": "ca44fd22",
   "metadata": {},
   "outputs": [],
   "source": [
    "len_Math = 15\n",
    "len_Chem = 19\n",
    "len_Phys = 16\n",
    "len_Math_Chem = 9\n",
    "len_Math_Phys = 7\n",
    "len_Chem_Phys = 6\n",
    "len_Math_Chem_Phys = 4\n"
   ]
  },
  {
   "cell_type": "markdown",
   "id": "bb9710b1",
   "metadata": {},
   "source": [
    "######  Допоміжна змінніа.\n",
    "Визначаємо список \"added_set\" в який будемо додавати множини які вже були додані до пустих множин."
   ]
  },
  {
   "cell_type": "code",
   "execution_count": 235,
   "id": "c57d44b9",
   "metadata": {},
   "outputs": [],
   "source": [
    "added_set = []"
   ]
  },
  {
   "cell_type": "markdown",
   "id": "5c652706",
   "metadata": {},
   "source": [
    "## Функція додавання елементів до пустих множин з надмножини всіх студентів\n",
    "Функція приймає 3 аргумента:\n",
    "- subset- пуста підмножина;\n",
    "- len_subset - потужність(довжина) підмножини;\n",
    "- added_set - список підмножин для перевірки чи були додані елементи(для того щоб не було повторень)\n",
    "\n",
    "На початку функція додає елементи підмножини  Math_Chem_Phys , оскільки вона являє собою спільною для всіх решта підмножин.\n",
    "\n",
    "Проходячі циклом по множині All_student , перевіряємо довжину підмножини, та унікальність елемнтів(для виключення повторень), і якщо умова виконується добавляємо елемент.\n",
    "\n",
    "Після закінчення циклу, підмножину добавляємо до списку added_set , оскільки ця множина є наповненна.\n",
    "\n",
    "Функція повертає саму підмножину"
   ]
  },
  {
   "cell_type": "code",
   "execution_count": 220,
   "id": "61d8ad35",
   "metadata": {},
   "outputs": [],
   "source": [
    "def append_subset(subset,len_subset,added_set):\n",
    "    subset.update(Math_Chem_Phys)\n",
    "    for i in All_student:\n",
    "        if len(subset) <= len_subset - 1 and all(i not in item for item in added_set):\n",
    "            subset.add(i)\n",
    "    added_set.append(subset)\n",
    "    return subset"
   ]
  },
  {
   "cell_type": "markdown",
   "id": "3b5a50f2",
   "metadata": {},
   "source": [
    "#### Наповнюємо підмножини перетину трьох основних предметів\n",
    "Та одразу виводимо їх на друк"
   ]
  },
  {
   "cell_type": "code",
   "execution_count": 239,
   "id": "7804e029",
   "metadata": {
    "scrolled": true
   },
   "outputs": [
    {
     "name": "stdout",
     "output_type": "stream",
     "text": [
      "Math_Chem_Phys: {'8', '12', '36', '6'}\n"
     ]
    }
   ],
   "source": [
    "print('Math_Chem_Phys:',append_subset(Math_Chem_Phys,len_Math_Chem_Phys,added_set))"
   ]
  },
  {
   "cell_type": "code",
   "execution_count": 242,
   "id": "64ff2676",
   "metadata": {
    "scrolled": true
   },
   "outputs": [
    {
     "name": "stdout",
     "output_type": "stream",
     "text": [
      "Math_Phys: {'8', '36', '12', '6', '3', '10', '5'}\n"
     ]
    }
   ],
   "source": [
    "print('Math_Phys:',append_subset(Math_Phys,len_Math_Phys,added_set))"
   ]
  },
  {
   "cell_type": "code",
   "execution_count": 241,
   "id": "36af1804",
   "metadata": {
    "scrolled": true
   },
   "outputs": [
    {
     "name": "stdout",
     "output_type": "stream",
     "text": [
      "Math_Chem: {'8', '1', '36', '16', '19', '12', '6', '21', '4'}\n"
     ]
    }
   ],
   "source": [
    "print('Math_Chem:',append_subset(Math_Chem,len_Math_Chem,added_set))"
   ]
  },
  {
   "cell_type": "code",
   "execution_count": 224,
   "id": "9bbd7893",
   "metadata": {
    "scrolled": true
   },
   "outputs": [
    {
     "name": "stdout",
     "output_type": "stream",
     "text": [
      "{'8', '36', '12', '6', '30', '33'}\n"
     ]
    }
   ],
   "source": [
    "print('Chem_Phys:',append_subset(Chem_Phys,len_Chem_Phys,added_set))"
   ]
  },
  {
   "cell_type": "markdown",
   "id": "193e9172",
   "metadata": {},
   "source": [
    "####  Наповнюємо основні множини предметів \n",
    "Оскільки дані множини включають у собі пертин з їншої множиною, то спочатку додаємо до неї елементи множин перетину, а потім наповнюємо унікальними занчення з Надмножини All_student.\n",
    "Та одражу виводимо на друк."
   ]
  },
  {
   "cell_type": "code",
   "execution_count": 243,
   "id": "0faabb2b",
   "metadata": {
    "scrolled": true
   },
   "outputs": [
    {
     "name": "stdout",
     "output_type": "stream",
     "text": [
      "Math: {'8', '36', '12', '6', '3', '10', '5', '4', '1', '16', '19', '21', '37', '28', '26'}\n"
     ]
    }
   ],
   "source": [
    "Math.update(Math_Chem,Math_Phys)\n",
    "print('Math:',append_subset(Math,len_Math,added_set))"
   ]
  },
  {
   "cell_type": "code",
   "execution_count": 244,
   "id": "5dfd230f",
   "metadata": {
    "scrolled": true
   },
   "outputs": [
    {
     "name": "stdout",
     "output_type": "stream",
     "text": [
      "Chem: {'8', '36', '12', '6', '4', '1', '16', '19', '21', '30', '33', '27', '20', '24', '17', '2', '18', '25', '9'}\n"
     ]
    }
   ],
   "source": [
    "Chem.update(Math_Chem,Chem_Phys)\n",
    "print('Chem:',append_subset(Chem,len_Chem,added_set))"
   ]
  },
  {
   "cell_type": "code",
   "execution_count": 245,
   "id": "3ccb7132",
   "metadata": {
    "scrolled": true
   },
   "outputs": [
    {
     "name": "stdout",
     "output_type": "stream",
     "text": [
      "Phys: {'8', '36', '6', '12', '3', '10', '5', '34', '32', '14', '35', '31', '11', '23', '30', '33'}\n"
     ]
    }
   ],
   "source": [
    "Phys.update(Chem_Phys,Math_Phys)\n",
    "print('Phys:',append_subset(Phys,len_Phys,added_set))"
   ]
  },
  {
   "cell_type": "markdown",
   "id": "37e333f2",
   "metadata": {},
   "source": [
    "#### Об'єднання основних предметів в одну надмножину "
   ]
  },
  {
   "cell_type": "code",
   "execution_count": 246,
   "id": "7c6902ca",
   "metadata": {},
   "outputs": [
    {
     "name": "stdout",
     "output_type": "stream",
     "text": [
      "{'8', '36', '12', '6', '3', '10', '5', '4', '1', '16', '19', '21', '30', '33', '37', '28', '26', '27', '20', '24', '17', '2', '18', '25', '9', '34', '32', '14', '35', '31', '11', '23'}\n"
     ]
    }
   ],
   "source": [
    "Superset = Math | Chem | Phys \n",
    "print(Superset)"
   ]
  },
  {
   "cell_type": "markdown",
   "id": "08964f59",
   "metadata": {},
   "source": [
    "# Відповідь:\n",
    "\n",
    "Згідно умови задачі нам потрібно знайти скільки студетів мали хоча б одну відмінну оцінку, тобто кількіть унікальних елементів в надмножині трьох предматів - її потужність"
   ]
  },
  {
   "cell_type": "code",
   "execution_count": 250,
   "id": "6a0d2f52",
   "metadata": {},
   "outputs": [
    {
     "name": "stdout",
     "output_type": "stream",
     "text": [
      "32 студентів отримали хоча б одну відмінну відмітку серед 37 студентів.\n"
     ]
    }
   ],
   "source": [
    "ansver = len(Superset)\n",
    "print(f'{ansver} студентів отримали хоча б одну відмінну відмітку серед 37 студентів.')"
   ]
  }
 ],
 "metadata": {
  "kernelspec": {
   "display_name": "Python 3 (ipykernel)",
   "language": "python",
   "name": "python3"
  },
  "language_info": {
   "codemirror_mode": {
    "name": "ipython",
    "version": 3
   },
   "file_extension": ".py",
   "mimetype": "text/x-python",
   "name": "python",
   "nbconvert_exporter": "python",
   "pygments_lexer": "ipython3",
   "version": "3.10.11"
  }
 },
 "nbformat": 4,
 "nbformat_minor": 5
}
