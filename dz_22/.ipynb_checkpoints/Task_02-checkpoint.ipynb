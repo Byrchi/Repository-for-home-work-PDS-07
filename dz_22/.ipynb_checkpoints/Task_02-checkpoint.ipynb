{
 "cells": [
  {
   "attachments": {
    "Figure_2.png": {
     "image/png": "[encoded data removed]"
    }
   },
   "cell_type": "markdown",
   "id": "622bb1be",
   "metadata": {},
   "source": [
    "![Figure_2.png](attachment:Figure_2.png)"
   ]
  },
  {
   "cell_type": "markdown",
   "id": "44a2de1c",
   "metadata": {},
   "source": [
    "# Задача № 2\n",
    "\n",
    "По аналогії з першим завданням.\n",
    "\n",
    "Визначаємо надмножину днів у місяці"
   ]
  },
  {
   "cell_type": "code",
   "execution_count": 36,
   "id": "bbfa2c98",
   "metadata": {
    "scrolled": true
   },
   "outputs": [
    {
     "name": "stdout",
     "output_type": "stream",
     "text": [
      "{'7', '24', '5', '17', '20', '19', '9', '4', '28', '23', '22', '13', '16', '21', '6', '26', '2', '15', '3', '12', '29', '14', '27', '1', '10', '8', '11', '30', '18', '25'}\n"
     ]
    }
   ],
   "source": [
    "d = list(range(1,31))\n",
    "days= [str(item) for item in d]\n",
    "Semptember = set(days)\n",
    "print(Semptember)"
   ]
  },
  {
   "cell_type": "markdown",
   "id": "6a4b75f3",
   "metadata": {},
   "source": [
    "#### Визначаємо підмножини днів з поганою погодою та їх потужніть"
   ]
  },
  {
   "cell_type": "code",
   "execution_count": 37,
   "id": "291585a6",
   "metadata": {},
   "outputs": [],
   "source": [
    "Rain = set()\n",
    "Cold = set()\n",
    "Wind = set()\n",
    "Rain_Cold = set()\n",
    "Rain_Wind = set()\n",
    "Wind_Cold = set()\n",
    "Rain_Cold_Wind = set()"
   ]
  },
  {
   "cell_type": "code",
   "execution_count": 38,
   "id": "1dd2ea7e",
   "metadata": {},
   "outputs": [],
   "source": [
    "len_Rain = 12\n",
    "len_Cold = 4\n",
    "len_Wind = 8\n",
    "len_Rain_Cold = 3\n",
    "len_Rain_Wind = 5\n",
    "len_Wind_Cold = 2\n",
    "len_Rain_Cold_Wind = 1"
   ]
  },
  {
   "cell_type": "markdown",
   "id": "3bc51189",
   "metadata": {},
   "source": [
    "###### Додаткова змінна"
   ]
  },
  {
   "cell_type": "code",
   "execution_count": 39,
   "id": "b0697da5",
   "metadata": {},
   "outputs": [],
   "source": [
    "added_set = []"
   ]
  },
  {
   "cell_type": "markdown",
   "id": "c1454550",
   "metadata": {},
   "source": [
    "## Основна Функція"
   ]
  },
  {
   "cell_type": "code",
   "execution_count": 40,
   "id": "3785ee9d",
   "metadata": {},
   "outputs": [],
   "source": [
    "def append_subset(subset,len_subset,added_set):\n",
    "    subset.update(Rain_Cold_Wind)\n",
    "    for i in Semptember:\n",
    "        if len(subset) <= len_subset - 1 and all(i not in item for item in added_set):\n",
    "            subset.add(i)\n",
    "    added_set.append(subset)\n",
    "    return subset"
   ]
  },
  {
   "cell_type": "markdown",
   "id": "7e8d7ea8",
   "metadata": {},
   "source": [
    "#### Підставляємо аргументи в функцію, та одразу виводимо на друк"
   ]
  },
  {
   "cell_type": "code",
   "execution_count": 41,
   "id": "6f4da622",
   "metadata": {},
   "outputs": [
    {
     "name": "stdout",
     "output_type": "stream",
     "text": [
      "Rain_Cold_Wind: {'7'}\n"
     ]
    }
   ],
   "source": [
    "print('Rain_Cold_Wind:',append_subset(Rain_Cold_Wind,len_Rain_Cold_Wind,added_set))"
   ]
  },
  {
   "cell_type": "code",
   "execution_count": 42,
   "id": "051e6835",
   "metadata": {},
   "outputs": [
    {
     "name": "stdout",
     "output_type": "stream",
     "text": [
      "Wind_Cold: {'24', '7'}\n"
     ]
    }
   ],
   "source": [
    "print('Wind_Cold:',append_subset(Wind_Cold,len_Wind_Cold,added_set))"
   ]
  },
  {
   "cell_type": "code",
   "execution_count": 43,
   "id": "22dd696a",
   "metadata": {},
   "outputs": [
    {
     "name": "stdout",
     "output_type": "stream",
     "text": [
      "Rain_Wind: {'5', '17', '7', '20', '19'}\n"
     ]
    }
   ],
   "source": [
    "print('Rain_Wind:',append_subset(Rain_Wind,len_Rain_Wind,added_set))"
   ]
  },
  {
   "cell_type": "code",
   "execution_count": 44,
   "id": "206130ad",
   "metadata": {},
   "outputs": [
    {
     "name": "stdout",
     "output_type": "stream",
     "text": [
      "Rain_Cold: {'7', '9', '4', '28', '23'}\n"
     ]
    }
   ],
   "source": [
    "print('Rain_Cold:',append_subset(Rain_Cold,len_Rain_Wind,added_set))"
   ]
  },
  {
   "cell_type": "code",
   "execution_count": 45,
   "id": "3c245e1d",
   "metadata": {},
   "outputs": [
    {
     "name": "stdout",
     "output_type": "stream",
     "text": [
      "Rain: {'5', '17', '7', '20', '19', '9', '4', '28', '23', '22', '13', '16'}\n"
     ]
    }
   ],
   "source": [
    "Rain.update(Rain_Wind, Rain_Cold)\n",
    "print('Rain:',append_subset(Rain,len_Rain,added_set))"
   ]
  },
  {
   "cell_type": "code",
   "execution_count": 46,
   "id": "4855235f",
   "metadata": {},
   "outputs": [
    {
     "name": "stdout",
     "output_type": "stream",
     "text": [
      "Cold: {'23', '28', '7', '24', '9', '4'}\n"
     ]
    }
   ],
   "source": [
    "Cold.update(Wind_Cold, Rain_Cold)\n",
    "print('Cold:',append_subset(Cold,len_Cold,added_set))"
   ]
  },
  {
   "cell_type": "code",
   "execution_count": 47,
   "id": "913d0ac1",
   "metadata": {
    "scrolled": true
   },
   "outputs": [
    {
     "name": "stdout",
     "output_type": "stream",
     "text": [
      "Wind: {'5', '17', '7', '20', '6', '24', '19', '21'}\n"
     ]
    }
   ],
   "source": [
    "Wind.update(Rain_Wind, Wind_Cold)\n",
    "print('Wind:',append_subset(Wind,len_Wind,added_set))"
   ]
  },
  {
   "cell_type": "markdown",
   "id": "0fd0d91e",
   "metadata": {},
   "source": [
    "#### Визначаємо сукупність множин днів з поганою погодою"
   ]
  },
  {
   "cell_type": "code",
   "execution_count": 48,
   "id": "6443cdc7",
   "metadata": {},
   "outputs": [],
   "source": [
    "Bad_weather = Rain | Cold | Wind"
   ]
  },
  {
   "cell_type": "markdown",
   "id": "58105b53",
   "metadata": {},
   "source": [
    "##  Відповідь:\n",
    "\n",
    "По умові задачі, потрібно визначити скільки хороших днів було у вересні.\n",
    "\n",
    "Визначаємо різницю потужностей множин і вираховуємо скільки було хороших днів."
   ]
  },
  {
   "cell_type": "code",
   "execution_count": 49,
   "id": "446a2102",
   "metadata": {},
   "outputs": [
    {
     "name": "stdout",
     "output_type": "stream",
     "text": [
      "15 днів хорошої погоди було у вересні\n"
     ]
    }
   ],
   "source": [
    "answer = len(Semptember) - len(Bad_weather)\n",
    "print(f'{answer} днів хорошої погоди було у вересні')"
   ]
  }
 ],
 "metadata": {
  "kernelspec": {
   "display_name": "Python 3 (ipykernel)",
   "language": "python",
   "name": "python3"
  },
  "language_info": {
   "codemirror_mode": {
    "name": "ipython",
    "version": 3
   },
   "file_extension": ".py",
   "mimetype": "text/x-python",
   "name": "python",
   "nbconvert_exporter": "python",
   "pygments_lexer": "ipython3",
   "version": "3.10.11"
  }
 },
 "nbformat": 4,
 "nbformat_minor": 5
}
