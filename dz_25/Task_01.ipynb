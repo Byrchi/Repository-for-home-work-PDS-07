{
 "cells": [
  {
   "cell_type": "markdown",
   "id": "9cfa9f0a",
   "metadata": {},
   "source": [
    "### Задача"
   ]
  },
  {
   "attachments": {
    "image.png": {
     "image/png": "[encoded data removed]"
    }
   },
   "cell_type": "markdown",
   "id": "dca2896a",
   "metadata": {},
   "source": [
    "![image.png](attachment:image.png)"
   ]
  },
  {
   "cell_type": "markdown",
   "id": "24cec73b",
   "metadata": {},
   "source": [
    "Для побудови закону розподілу системи двох дискретних випадкових величин X і Y, де X - кількість бракованих деталей, а Y - кількість стандартних деталей,  скористаємося біноміальним розподілом.\n",
    "\n",
    "За умовою, ймовірність того, що деталь є стандартною, дорівнює 0.6. Отже, ймовірність того, що деталь є бракованою, дорівнює 1 - 0.6 = 0.4."
   ]
  },
  {
   "cell_type": "markdown",
   "id": "3294f04f",
   "metadata": {},
   "source": [
    "Оскільки перевірці підлягають 3 деталі, можливі наступні комбінації(х - браковані, у - стандарнті):\n",
    "- у у у\n",
    "- х у у + у х у + у у х\n",
    "- х х у + х x у + х у x\n",
    "- х х х "
   ]
  },
  {
   "cell_type": "markdown",
   "id": "c5fe63d6",
   "metadata": {},
   "source": [
    "Обрахуємо ймовірності по кожній з цій комбінацій\n"
   ]
  },
  {
   "cell_type": "code",
   "execution_count": 95,
   "id": "67c6a3a0",
   "metadata": {},
   "outputs": [],
   "source": [
    "x = 0.4"
   ]
  },
  {
   "cell_type": "code",
   "execution_count": 96,
   "id": "a60c3bb2",
   "metadata": {},
   "outputs": [],
   "source": [
    "y = 0.6"
   ]
  },
  {
   "cell_type": "code",
   "execution_count": 97,
   "id": "d32ae4f2",
   "metadata": {},
   "outputs": [
    {
     "data": {
      "text/plain": [
       "0.21599999999999997"
      ]
     },
     "execution_count": 97,
     "metadata": {},
     "output_type": "execute_result"
    }
   ],
   "source": [
    "P_x0_y3 = y**3\n",
    "P_x0_y3"
   ]
  },
  {
   "cell_type": "code",
   "execution_count": 98,
   "id": "03d15576",
   "metadata": {},
   "outputs": [
    {
     "data": {
      "text/plain": [
       "0.43199999999999994"
      ]
     },
     "execution_count": 98,
     "metadata": {},
     "output_type": "execute_result"
    }
   ],
   "source": [
    "P_x1_y2 = x * y * y + y * x * y + y * y * x\n",
    "P_x1_y2"
   ]
  },
  {
   "cell_type": "code",
   "execution_count": 99,
   "id": "e71635fc",
   "metadata": {},
   "outputs": [
    {
     "data": {
      "text/plain": [
       "0.28800000000000003"
      ]
     },
     "execution_count": 99,
     "metadata": {},
     "output_type": "execute_result"
    }
   ],
   "source": [
    "P_x2_y1 = x * x * y + y * x * x + x * y * x\n",
    "P_x2_y1"
   ]
  },
  {
   "cell_type": "code",
   "execution_count": 100,
   "id": "90e2edcf",
   "metadata": {},
   "outputs": [
    {
     "data": {
      "text/plain": [
       "0.06400000000000002"
      ]
     },
     "execution_count": 100,
     "metadata": {},
     "output_type": "execute_result"
    }
   ],
   "source": [
    "P_x3_y0 = x**3\n",
    "P_x3_y0"
   ]
  },
  {
   "cell_type": "markdown",
   "id": "f669b09d",
   "metadata": {},
   "source": [
    "На основі цих данних побудуємо закон розподілу системи двох дискретних випадкових величин X і Y"
   ]
  },
  {
   "cell_type": "markdown",
   "id": "221b7798",
   "metadata": {},
   "source": [
    "|X|0|1|2|3|\n",
    "|:-|:-:|:-:|:-:|-:|\n",
    "|P(X/Y|0.216|0.432|0.288|0.064|\n",
    "|Y|3|2|1|0|"
   ]
  },
  {
   "cell_type": "code",
   "execution_count": 109,
   "id": "de52588a",
   "metadata": {},
   "outputs": [],
   "source": [
    "def analytical_indicators(X,P):\n",
    "    math_exp = 0  # Математичне сподівання\n",
    "    disp = 0  # Сумма квадратів величин на їх ймовірність\n",
    "    for i in range(len(X)):\n",
    "        math_exp += X[i]*P[i]  \n",
    "        disp += X[i]**2*P[i]\n",
    "    dispersion = disp - math_exp**2  # Дисперсія\n",
    "    standard_deviation = dispersion**(1/2) # Стандартне відхилення    \n",
    "    return math_exp, dispersion, standard_deviation\n",
    "     "
   ]
  },
  {
   "cell_type": "code",
   "execution_count": 110,
   "id": "b162afd3",
   "metadata": {},
   "outputs": [],
   "source": [
    "X = [0, 1, 2, 3]"
   ]
  },
  {
   "cell_type": "code",
   "execution_count": 111,
   "id": "6563bab5",
   "metadata": {},
   "outputs": [],
   "source": [
    "Y = [3, 2, 1, 0]"
   ]
  },
  {
   "cell_type": "code",
   "execution_count": 112,
   "id": "aaf6f2d9",
   "metadata": {},
   "outputs": [],
   "source": [
    "P_XY = [0.216, 0.432, 0.288, 0.064]\n"
   ]
  },
  {
   "cell_type": "code",
   "execution_count": 113,
   "id": "a0c8e53e",
   "metadata": {},
   "outputs": [
    {
     "name": "stdout",
     "output_type": "stream",
     "text": [
      "Аналітичні показники для випадкових велечин Х: \n",
      " Mx =  1.2 \n",
      " Dx =  0.7200000000000002 \n",
      " σx =  0.8485281374238571 \n",
      "\n"
     ]
    }
   ],
   "source": [
    "X_ind = analytical_indicators(X,P_XY)\n",
    "print('Аналітичні показники для випадкових велечин Х: \\n',\"Mx = \", X_ind[0],\"\\n\",\"Dx = \", X_ind[1],\"\\n\",\"σx = \", X_ind[2],\"\\n\")"
   ]
  },
  {
   "cell_type": "code",
   "execution_count": 114,
   "id": "db34d7c9",
   "metadata": {},
   "outputs": [
    {
     "name": "stdout",
     "output_type": "stream",
     "text": [
      "Аналітичні показники для випадкових велечин Y: \n",
      " My =  1.8 \n",
      " Dy =  0.7199999999999993 \n",
      " σy =  0.8485281374238566 \n",
      "\n"
     ]
    }
   ],
   "source": [
    "Y_ind =analytical_indicators(Y,P_XY)\n",
    "print('Аналітичні показники для випадкових велечин Y: \\n',\"My = \", Y_ind[0],\"\\n\",\"Dy = \", Y_ind[1],\"\\n\",\"σy = \", Y_ind[2],\"\\n\")"
   ]
  },
  {
   "cell_type": "code",
   "execution_count": 107,
   "id": "091c3c6b",
   "metadata": {},
   "outputs": [],
   "source": [
    "def correlation(X, Y, P, X_ind, Y_ind):\n",
    "    # Функція розкахунку коефіцієнта коваріації приймає такі аргменти: список випадкових велечин Х та У, їх йомовірності,\n",
    "    # та змінні X_ind, Y_ind в яких обрахованні математичні сподівання та стандартне відхилення для даних велечин відповідно.\n",
    "    Mx = X_ind[0] # Мат сподівання для велечин Х\n",
    "    My = Y_ind[0] # Мат сподівання для велечин Y\n",
    "    σx = round(X_ind[2], 3) # Стандартне відхилення  для велечин Х\n",
    "    σy = round(Y_ind[2], 3) # Стандартне відхилення для велечин Y\n",
    "    Mxy = 0    # Мат сподівання для велечин ХY\n",
    "    for i in range(len(X)):\n",
    "        Mxy += X[i]*P[i]*Y[i]\n",
    "    cov_xy = round(Mxy,3) - round(Mx, 3) * round(My, 3) # коефіцієет коваріації\n",
    "    r = round(cov_xy / (σx * σy), 3) # коефіцієет кореляції\n",
    "    return r"
   ]
  },
  {
   "cell_type": "code",
   "execution_count": 108,
   "id": "3e90b8c2",
   "metadata": {},
   "outputs": [
    {
     "name": "stdout",
     "output_type": "stream",
     "text": [
      "Rореляція дорівнює  -0.999\n"
     ]
    }
   ],
   "source": [
    "r = correlation(X, Y, P_XY, X_ind, Y_ind)\n",
    "print(\"Rореляція дорівнює \" ,r)"
   ]
  },
  {
   "cell_type": "markdown",
   "id": "87ccfbee",
   "metadata": {},
   "source": [
    "####  Отже на основі даних розрахунків можно зробити висновок  що,  зворотна залежність , яка відображає зменшення Y при зростанні X"
   ]
  }
 ],
 "metadata": {
  "kernelspec": {
   "display_name": "Python 3 (ipykernel)",
   "language": "python",
   "name": "python3"
  },
  "language_info": {
   "codemirror_mode": {
    "name": "ipython",
    "version": 3
   },
   "file_extension": ".py",
   "mimetype": "text/x-python",
   "name": "python",
   "nbconvert_exporter": "python",
   "pygments_lexer": "ipython3",
   "version": "3.10.11"
  }
 },
 "nbformat": 4,
 "nbformat_minor": 5
}
