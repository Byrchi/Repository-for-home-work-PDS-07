{
 "cells": [
  {
   "cell_type": "code",
   "execution_count": 89,
   "id": "0a6e5943",
   "metadata": {},
   "outputs": [],
   "source": [
    "import pandas as pd\n",
    "import random\n",
    "import numpy as np"
   ]
  },
  {
   "cell_type": "markdown",
   "id": "be44237e",
   "metadata": {},
   "source": [
    "# Створення датасету"
   ]
  },
  {
   "cell_type": "code",
   "execution_count": 90,
   "id": "7698e281",
   "metadata": {},
   "outputs": [
    {
     "data": {
      "text/plain": [
       "{\"Ім'я та прізвище студента\": ['Андрій Литвиненко',\n",
       "  'Софія Мельник',\n",
       "  'Іван Шевченко',\n",
       "  'Юлія Павленко',\n",
       "  'Андрій Бойко',\n",
       "  'Михайло Лисенко',\n",
       "  'Юлія Коваленко',\n",
       "  'Михайло Ковальчук',\n",
       "  'Олександр Шевченко',\n",
       "  'Катерина Павленко',\n",
       "  'Софія Кравченко',\n",
       "  'Іван Павленко',\n",
       "  'Марія Лисенко',\n",
       "  'Софія Кравченко',\n",
       "  'Максим Мельник'],\n",
       " 'Cередній бал': [2.96,\n",
       "  3.38,\n",
       "  2.88,\n",
       "  2.71,\n",
       "  4.39,\n",
       "  4.9,\n",
       "  2.0,\n",
       "  4.35,\n",
       "  2.39,\n",
       "  2.44,\n",
       "  3.67,\n",
       "  2.62,\n",
       "  4.4,\n",
       "  3.11,\n",
       "  3.82],\n",
       " 'Оцінка за екзамен': [3, 3, 5, 2, 3, 3, 5, 4, 3, 2, 2, 5, 5, 5, 3],\n",
       " 'Кількість спроб': [1, 2, 1, 2, 1, 1, 2, 1, 1, 2, 1, 2, 1, 1, 2]}"
      ]
     },
     "execution_count": 90,
     "metadata": {},
     "output_type": "execute_result"
    }
   ],
   "source": [
    "data = {\n",
    "    'Ім\\'я та прізвище студента' : ['Андрій Литвиненко', 'Софія Мельник', 'Іван Шевченко', 'Юлія Павленко', 'Андрій Бойко', 'Михайло Лисенко', 'Юлія Коваленко', 'Михайло Ковальчук', 'Олександр Шевченко', 'Катерина Павленко', 'Софія Кравченко', 'Іван Павленко', 'Марія Лисенко', 'Софія Кравченко', 'Максим Мельник'],\n",
    "    'Cередній бал' : [round(random.uniform(2.0, 5.0),2) for _ in range(15)], \n",
    "    \"Оцінка за екзамен\" : [random.randrange(2,6) for _ in range(15)],\n",
    "    \"Кількість спроб\" : [random.randrange(1,3) for _ in range(15)],\n",
    "    }\n",
    "data"
   ]
  },
  {
   "cell_type": "code",
   "execution_count": 91,
   "id": "e257ae12",
   "metadata": {},
   "outputs": [
    {
     "data": {
      "text/html": [
       "<div>\n",
       "<style scoped>\n",
       "    .dataframe tbody tr th:only-of-type {\n",
       "        vertical-align: middle;\n",
       "    }\n",
       "\n",
       "    .dataframe tbody tr th {\n",
       "        vertical-align: top;\n",
       "    }\n",
       "\n",
       "    .dataframe thead th {\n",
       "        text-align: right;\n",
       "    }\n",
       "</style>\n",
       "<table border=\"1\" class=\"dataframe\">\n",
       "  <thead>\n",
       "    <tr style=\"text-align: right;\">\n",
       "      <th></th>\n",
       "      <th>Ім'я та прізвище студента</th>\n",
       "      <th>Cередній бал</th>\n",
       "      <th>Оцінка за екзамен</th>\n",
       "      <th>Кількість спроб</th>\n",
       "    </tr>\n",
       "  </thead>\n",
       "  <tbody>\n",
       "    <tr>\n",
       "      <th>0</th>\n",
       "      <td>Андрій Литвиненко</td>\n",
       "      <td>2.96</td>\n",
       "      <td>3</td>\n",
       "      <td>1</td>\n",
       "    </tr>\n",
       "    <tr>\n",
       "      <th>1</th>\n",
       "      <td>Софія Мельник</td>\n",
       "      <td>3.38</td>\n",
       "      <td>3</td>\n",
       "      <td>2</td>\n",
       "    </tr>\n",
       "    <tr>\n",
       "      <th>2</th>\n",
       "      <td>Іван Шевченко</td>\n",
       "      <td>2.88</td>\n",
       "      <td>5</td>\n",
       "      <td>1</td>\n",
       "    </tr>\n",
       "    <tr>\n",
       "      <th>3</th>\n",
       "      <td>Юлія Павленко</td>\n",
       "      <td>2.71</td>\n",
       "      <td>2</td>\n",
       "      <td>2</td>\n",
       "    </tr>\n",
       "    <tr>\n",
       "      <th>4</th>\n",
       "      <td>Андрій Бойко</td>\n",
       "      <td>4.39</td>\n",
       "      <td>3</td>\n",
       "      <td>1</td>\n",
       "    </tr>\n",
       "    <tr>\n",
       "      <th>5</th>\n",
       "      <td>Михайло Лисенко</td>\n",
       "      <td>4.90</td>\n",
       "      <td>3</td>\n",
       "      <td>1</td>\n",
       "    </tr>\n",
       "    <tr>\n",
       "      <th>6</th>\n",
       "      <td>Юлія Коваленко</td>\n",
       "      <td>2.00</td>\n",
       "      <td>5</td>\n",
       "      <td>2</td>\n",
       "    </tr>\n",
       "    <tr>\n",
       "      <th>7</th>\n",
       "      <td>Михайло Ковальчук</td>\n",
       "      <td>4.35</td>\n",
       "      <td>4</td>\n",
       "      <td>1</td>\n",
       "    </tr>\n",
       "    <tr>\n",
       "      <th>8</th>\n",
       "      <td>Олександр Шевченко</td>\n",
       "      <td>2.39</td>\n",
       "      <td>3</td>\n",
       "      <td>1</td>\n",
       "    </tr>\n",
       "    <tr>\n",
       "      <th>9</th>\n",
       "      <td>Катерина Павленко</td>\n",
       "      <td>2.44</td>\n",
       "      <td>2</td>\n",
       "      <td>2</td>\n",
       "    </tr>\n",
       "    <tr>\n",
       "      <th>10</th>\n",
       "      <td>Софія Кравченко</td>\n",
       "      <td>3.67</td>\n",
       "      <td>2</td>\n",
       "      <td>1</td>\n",
       "    </tr>\n",
       "    <tr>\n",
       "      <th>11</th>\n",
       "      <td>Іван Павленко</td>\n",
       "      <td>2.62</td>\n",
       "      <td>5</td>\n",
       "      <td>2</td>\n",
       "    </tr>\n",
       "    <tr>\n",
       "      <th>12</th>\n",
       "      <td>Марія Лисенко</td>\n",
       "      <td>4.40</td>\n",
       "      <td>5</td>\n",
       "      <td>1</td>\n",
       "    </tr>\n",
       "    <tr>\n",
       "      <th>13</th>\n",
       "      <td>Софія Кравченко</td>\n",
       "      <td>3.11</td>\n",
       "      <td>5</td>\n",
       "      <td>1</td>\n",
       "    </tr>\n",
       "    <tr>\n",
       "      <th>14</th>\n",
       "      <td>Максим Мельник</td>\n",
       "      <td>3.82</td>\n",
       "      <td>3</td>\n",
       "      <td>2</td>\n",
       "    </tr>\n",
       "  </tbody>\n",
       "</table>\n",
       "</div>"
      ],
      "text/plain": [
       "   Ім'я та прізвище студента  Cередній бал  Оцінка за екзамен  Кількість спроб\n",
       "0          Андрій Литвиненко          2.96                  3                1\n",
       "1              Софія Мельник          3.38                  3                2\n",
       "2              Іван Шевченко          2.88                  5                1\n",
       "3              Юлія Павленко          2.71                  2                2\n",
       "4               Андрій Бойко          4.39                  3                1\n",
       "5            Михайло Лисенко          4.90                  3                1\n",
       "6             Юлія Коваленко          2.00                  5                2\n",
       "7          Михайло Ковальчук          4.35                  4                1\n",
       "8         Олександр Шевченко          2.39                  3                1\n",
       "9          Катерина Павленко          2.44                  2                2\n",
       "10           Софія Кравченко          3.67                  2                1\n",
       "11             Іван Павленко          2.62                  5                2\n",
       "12             Марія Лисенко          4.40                  5                1\n",
       "13           Софія Кравченко          3.11                  5                1\n",
       "14            Максим Мельник          3.82                  3                2"
      ]
     },
     "execution_count": 91,
     "metadata": {},
     "output_type": "execute_result"
    }
   ],
   "source": [
    "df = pd.DataFrame(data=data)\n",
    "df"
   ]
  },
  {
   "cell_type": "markdown",
   "id": "9ebcc31f",
   "metadata": {},
   "source": [
    "___"
   ]
  },
  {
   "cell_type": "markdown",
   "id": "9707726b",
   "metadata": {},
   "source": [
    "# Додаємо нову колонку з умовою"
   ]
  },
  {
   "cell_type": "code",
   "execution_count": 92,
   "id": "ac5647bc",
   "metadata": {
    "scrolled": false
   },
   "outputs": [
    {
     "data": {
      "text/html": [
       "<div>\n",
       "<style scoped>\n",
       "    .dataframe tbody tr th:only-of-type {\n",
       "        vertical-align: middle;\n",
       "    }\n",
       "\n",
       "    .dataframe tbody tr th {\n",
       "        vertical-align: top;\n",
       "    }\n",
       "\n",
       "    .dataframe thead th {\n",
       "        text-align: right;\n",
       "    }\n",
       "</style>\n",
       "<table border=\"1\" class=\"dataframe\">\n",
       "  <thead>\n",
       "    <tr style=\"text-align: right;\">\n",
       "      <th></th>\n",
       "      <th>Ім'я та прізвище студента</th>\n",
       "      <th>Cередній бал</th>\n",
       "      <th>Оцінка за екзамен</th>\n",
       "      <th>Кількість спроб</th>\n",
       "      <th>Допуск</th>\n",
       "    </tr>\n",
       "  </thead>\n",
       "  <tbody>\n",
       "    <tr>\n",
       "      <th>0</th>\n",
       "      <td>Андрій Литвиненко</td>\n",
       "      <td>2.96</td>\n",
       "      <td>3</td>\n",
       "      <td>1</td>\n",
       "      <td>Не залік</td>\n",
       "    </tr>\n",
       "    <tr>\n",
       "      <th>1</th>\n",
       "      <td>Софія Мельник</td>\n",
       "      <td>3.38</td>\n",
       "      <td>3</td>\n",
       "      <td>2</td>\n",
       "      <td>Залік</td>\n",
       "    </tr>\n",
       "    <tr>\n",
       "      <th>2</th>\n",
       "      <td>Іван Шевченко</td>\n",
       "      <td>2.88</td>\n",
       "      <td>5</td>\n",
       "      <td>1</td>\n",
       "      <td>Залік</td>\n",
       "    </tr>\n",
       "    <tr>\n",
       "      <th>3</th>\n",
       "      <td>Юлія Павленко</td>\n",
       "      <td>2.71</td>\n",
       "      <td>2</td>\n",
       "      <td>2</td>\n",
       "      <td>Не залік</td>\n",
       "    </tr>\n",
       "    <tr>\n",
       "      <th>4</th>\n",
       "      <td>Андрій Бойко</td>\n",
       "      <td>4.39</td>\n",
       "      <td>3</td>\n",
       "      <td>1</td>\n",
       "      <td>Залік</td>\n",
       "    </tr>\n",
       "    <tr>\n",
       "      <th>5</th>\n",
       "      <td>Михайло Лисенко</td>\n",
       "      <td>4.90</td>\n",
       "      <td>3</td>\n",
       "      <td>1</td>\n",
       "      <td>Залік</td>\n",
       "    </tr>\n",
       "    <tr>\n",
       "      <th>6</th>\n",
       "      <td>Юлія Коваленко</td>\n",
       "      <td>2.00</td>\n",
       "      <td>5</td>\n",
       "      <td>2</td>\n",
       "      <td>Залік</td>\n",
       "    </tr>\n",
       "    <tr>\n",
       "      <th>7</th>\n",
       "      <td>Михайло Ковальчук</td>\n",
       "      <td>4.35</td>\n",
       "      <td>4</td>\n",
       "      <td>1</td>\n",
       "      <td>Залік</td>\n",
       "    </tr>\n",
       "    <tr>\n",
       "      <th>8</th>\n",
       "      <td>Олександр Шевченко</td>\n",
       "      <td>2.39</td>\n",
       "      <td>3</td>\n",
       "      <td>1</td>\n",
       "      <td>Не залік</td>\n",
       "    </tr>\n",
       "    <tr>\n",
       "      <th>9</th>\n",
       "      <td>Катерина Павленко</td>\n",
       "      <td>2.44</td>\n",
       "      <td>2</td>\n",
       "      <td>2</td>\n",
       "      <td>Не залік</td>\n",
       "    </tr>\n",
       "    <tr>\n",
       "      <th>10</th>\n",
       "      <td>Софія Кравченко</td>\n",
       "      <td>3.67</td>\n",
       "      <td>2</td>\n",
       "      <td>1</td>\n",
       "      <td>Не залік</td>\n",
       "    </tr>\n",
       "    <tr>\n",
       "      <th>11</th>\n",
       "      <td>Іван Павленко</td>\n",
       "      <td>2.62</td>\n",
       "      <td>5</td>\n",
       "      <td>2</td>\n",
       "      <td>Залік</td>\n",
       "    </tr>\n",
       "    <tr>\n",
       "      <th>12</th>\n",
       "      <td>Марія Лисенко</td>\n",
       "      <td>4.40</td>\n",
       "      <td>5</td>\n",
       "      <td>1</td>\n",
       "      <td>Залік</td>\n",
       "    </tr>\n",
       "    <tr>\n",
       "      <th>13</th>\n",
       "      <td>Софія Кравченко</td>\n",
       "      <td>3.11</td>\n",
       "      <td>5</td>\n",
       "      <td>1</td>\n",
       "      <td>Залік</td>\n",
       "    </tr>\n",
       "    <tr>\n",
       "      <th>14</th>\n",
       "      <td>Максим Мельник</td>\n",
       "      <td>3.82</td>\n",
       "      <td>3</td>\n",
       "      <td>2</td>\n",
       "      <td>Залік</td>\n",
       "    </tr>\n",
       "  </tbody>\n",
       "</table>\n",
       "</div>"
      ],
      "text/plain": [
       "   Ім'я та прізвище студента  Cередній бал  Оцінка за екзамен  \\\n",
       "0          Андрій Литвиненко          2.96                  3   \n",
       "1              Софія Мельник          3.38                  3   \n",
       "2              Іван Шевченко          2.88                  5   \n",
       "3              Юлія Павленко          2.71                  2   \n",
       "4               Андрій Бойко          4.39                  3   \n",
       "5            Михайло Лисенко          4.90                  3   \n",
       "6             Юлія Коваленко          2.00                  5   \n",
       "7          Михайло Ковальчук          4.35                  4   \n",
       "8         Олександр Шевченко          2.39                  3   \n",
       "9          Катерина Павленко          2.44                  2   \n",
       "10           Софія Кравченко          3.67                  2   \n",
       "11             Іван Павленко          2.62                  5   \n",
       "12             Марія Лисенко          4.40                  5   \n",
       "13           Софія Кравченко          3.11                  5   \n",
       "14            Максим Мельник          3.82                  3   \n",
       "\n",
       "    Кількість спроб    Допуск  \n",
       "0                 1  Не залік  \n",
       "1                 2     Залік  \n",
       "2                 1     Залік  \n",
       "3                 2  Не залік  \n",
       "4                 1     Залік  \n",
       "5                 1     Залік  \n",
       "6                 2     Залік  \n",
       "7                 1     Залік  \n",
       "8                 1  Не залік  \n",
       "9                 2  Не залік  \n",
       "10                1  Не залік  \n",
       "11                2     Залік  \n",
       "12                1     Залік  \n",
       "13                1     Залік  \n",
       "14                2     Залік  "
      ]
     },
     "execution_count": 92,
     "metadata": {},
     "output_type": "execute_result"
    }
   ],
   "source": [
    "df['Допуск'] = np.where((df['Cередній бал'] + df['Оцінка за екзамен'])/2 > 3,\"Залік\",\"Не залік\")\n",
    "df"
   ]
  },
  {
   "cell_type": "markdown",
   "id": "b036588c",
   "metadata": {},
   "source": [
    "___"
   ]
  },
  {
   "cell_type": "markdown",
   "id": "60438b89",
   "metadata": {},
   "source": [
    "#  Статистичні показники"
   ]
  },
  {
   "cell_type": "code",
   "execution_count": 93,
   "id": "3b651b35",
   "metadata": {},
   "outputs": [
    {
     "data": {
      "text/plain": [
       "count    15.000000\n",
       "mean      3.334667\n",
       "std       0.880445\n",
       "min       2.000000\n",
       "25%       2.665000\n",
       "50%       3.110000\n",
       "75%       4.085000\n",
       "max       4.900000\n",
       "Name: Cередній бал, dtype: float64"
      ]
     },
     "execution_count": 93,
     "metadata": {},
     "output_type": "execute_result"
    }
   ],
   "source": [
    "df[\"Cередній бал\"].describe()"
   ]
  },
  {
   "cell_type": "code",
   "execution_count": 94,
   "id": "8dabb7d3",
   "metadata": {},
   "outputs": [
    {
     "data": {
      "text/plain": [
       "[3.3346666666666662, 2.0, 4.9, 3.11]"
      ]
     },
     "execution_count": 94,
     "metadata": {},
     "output_type": "execute_result"
    }
   ],
   "source": [
    "[df[\"Cередній бал\"].mean(),\n",
    "df[\"Cередній бал\"].min(),\n",
    "df[\"Cередній бал\"].max(),\n",
    "df[\"Cередній бал\"].median()]"
   ]
  },
  {
   "cell_type": "markdown",
   "id": "c49dcf8b",
   "metadata": {},
   "source": [
    "___"
   ]
  },
  {
   "cell_type": "markdown",
   "id": "30e42e38",
   "metadata": {},
   "source": [
    "# Кількість студентів , які здали екзамен з першого разу"
   ]
  },
  {
   "cell_type": "code",
   "execution_count": 95,
   "id": "897555ba",
   "metadata": {
    "scrolled": true
   },
   "outputs": [
    {
     "name": "stdout",
     "output_type": "stream",
     "text": [
      "Кількість студентів , які здали екзамен з першого разу : 8\n"
     ]
    }
   ],
   "source": [
    "first_atempt = df[(df['Кількість спроб'] == 1) & (df['Оцінка за екзамен']>2) ]\n",
    "print(f\"Кількість студентів , які здали екзамен з першого разу : {len(first_atempt)}\")            "
   ]
  },
  {
   "cell_type": "markdown",
   "id": "105944b0",
   "metadata": {},
   "source": [
    "___"
   ]
  },
  {
   "cell_type": "markdown",
   "id": "97a44a80",
   "metadata": {},
   "source": [
    "# Збереження данних у вигляді серії"
   ]
  },
  {
   "cell_type": "code",
   "execution_count": 96,
   "id": "a0c46f53",
   "metadata": {},
   "outputs": [
    {
     "data": {
      "text/plain": [
       "0      Андрій Литвиненко\n",
       "1          Софія Мельник\n",
       "2          Іван Шевченко\n",
       "3          Юлія Павленко\n",
       "4           Андрій Бойко\n",
       "5        Михайло Лисенко\n",
       "6         Юлія Коваленко\n",
       "7      Михайло Ковальчук\n",
       "8     Олександр Шевченко\n",
       "9      Катерина Павленко\n",
       "10       Софія Кравченко\n",
       "11         Іван Павленко\n",
       "12         Марія Лисенко\n",
       "13       Софія Кравченко\n",
       "14        Максим Мельник\n",
       "Name: Ім'я та прізвище студента, dtype: object"
      ]
     },
     "execution_count": 96,
     "metadata": {},
     "output_type": "execute_result"
    }
   ],
   "source": [
    "save_series = df['Ім\\'я та прізвище студента']\n",
    "save_series"
   ]
  }
 ],
 "metadata": {
  "kernelspec": {
   "display_name": "Python 3 (ipykernel)",
   "language": "python",
   "name": "python3"
  },
  "language_info": {
   "codemirror_mode": {
    "name": "ipython",
    "version": 3
   },
   "file_extension": ".py",
   "mimetype": "text/x-python",
   "name": "python",
   "nbconvert_exporter": "python",
   "pygments_lexer": "ipython3",
   "version": "3.10.11"
  }
 },
 "nbformat": 4,
 "nbformat_minor": 5
}
