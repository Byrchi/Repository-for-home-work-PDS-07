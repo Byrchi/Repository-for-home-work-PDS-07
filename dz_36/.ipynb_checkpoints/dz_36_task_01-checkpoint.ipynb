{
 "cells": [
  {
   "cell_type": "markdown",
   "id": "9198401e",
   "metadata": {},
   "source": [
    "## _Кросс валідація на прикладі моделі лінійної регресії_"
   ]
  },
  {
   "cell_type": "code",
   "execution_count": 34,
   "id": "d3bde525",
   "metadata": {},
   "outputs": [],
   "source": [
    "%matplotlib inline\n",
    "import matplotlib.pyplot as plt\n",
    "import numpy as np\n",
    "import pandas as pd\n",
    "import sklearn\n",
    "from sklearn.linear_model import LinearRegression\n",
    "from sklearn.preprocessing import scale\n",
    "from sklearn.model_selection import  cross_val_score, ShuffleSplit\n",
    "from sklearn.metrics import mean_absolute_error, mean_squared_error"
   ]
  },
  {
   "cell_type": "markdown",
   "id": "03013639",
   "metadata": {},
   "source": [
    "_Створюємо датасет з вихідного файлу_"
   ]
  },
  {
   "cell_type": "code",
   "execution_count": 5,
   "id": "e37e21dc",
   "metadata": {
    "scrolled": true
   },
   "outputs": [
    {
     "data": {
      "text/html": [
       "<div>\n",
       "<style scoped>\n",
       "    .dataframe tbody tr th:only-of-type {\n",
       "        vertical-align: middle;\n",
       "    }\n",
       "\n",
       "    .dataframe tbody tr th {\n",
       "        vertical-align: top;\n",
       "    }\n",
       "\n",
       "    .dataframe thead th {\n",
       "        text-align: right;\n",
       "    }\n",
       "</style>\n",
       "<table border=\"1\" class=\"dataframe\">\n",
       "  <thead>\n",
       "    <tr style=\"text-align: right;\">\n",
       "      <th></th>\n",
       "      <th>Hours</th>\n",
       "      <th>Scores</th>\n",
       "    </tr>\n",
       "  </thead>\n",
       "  <tbody>\n",
       "    <tr>\n",
       "      <th>0</th>\n",
       "      <td>2.5</td>\n",
       "      <td>21</td>\n",
       "    </tr>\n",
       "    <tr>\n",
       "      <th>1</th>\n",
       "      <td>5.1</td>\n",
       "      <td>47</td>\n",
       "    </tr>\n",
       "    <tr>\n",
       "      <th>2</th>\n",
       "      <td>3.2</td>\n",
       "      <td>27</td>\n",
       "    </tr>\n",
       "    <tr>\n",
       "      <th>3</th>\n",
       "      <td>8.5</td>\n",
       "      <td>75</td>\n",
       "    </tr>\n",
       "    <tr>\n",
       "      <th>4</th>\n",
       "      <td>3.5</td>\n",
       "      <td>30</td>\n",
       "    </tr>\n",
       "    <tr>\n",
       "      <th>5</th>\n",
       "      <td>1.5</td>\n",
       "      <td>20</td>\n",
       "    </tr>\n",
       "    <tr>\n",
       "      <th>6</th>\n",
       "      <td>9.2</td>\n",
       "      <td>88</td>\n",
       "    </tr>\n",
       "    <tr>\n",
       "      <th>7</th>\n",
       "      <td>5.5</td>\n",
       "      <td>60</td>\n",
       "    </tr>\n",
       "    <tr>\n",
       "      <th>8</th>\n",
       "      <td>8.3</td>\n",
       "      <td>81</td>\n",
       "    </tr>\n",
       "    <tr>\n",
       "      <th>9</th>\n",
       "      <td>2.7</td>\n",
       "      <td>25</td>\n",
       "    </tr>\n",
       "  </tbody>\n",
       "</table>\n",
       "</div>"
      ],
      "text/plain": [
       "   Hours  Scores\n",
       "0    2.5      21\n",
       "1    5.1      47\n",
       "2    3.2      27\n",
       "3    8.5      75\n",
       "4    3.5      30\n",
       "5    1.5      20\n",
       "6    9.2      88\n",
       "7    5.5      60\n",
       "8    8.3      81\n",
       "9    2.7      25"
      ]
     },
     "execution_count": 5,
     "metadata": {},
     "output_type": "execute_result"
    }
   ],
   "source": [
    "df = pd.read_csv('student_scores.csv')\n",
    "df.head(10)"
   ]
  },
  {
   "cell_type": "markdown",
   "id": "d92a45cc",
   "metadata": {},
   "source": [
    "_Визначаємо змінні предиктора та шукомої велицини , назанчаючи відповідні серії з дата сету_"
   ]
  },
  {
   "cell_type": "code",
   "execution_count": 7,
   "id": "81c49eaa",
   "metadata": {},
   "outputs": [],
   "source": [
    "X,y = df[['Hours']].values,df[['Scores']].values"
   ]
  },
  {
   "cell_type": "markdown",
   "id": "b72605c8",
   "metadata": {},
   "source": [
    "_Створюємо модель лінійної регресії, та використовуючи ShuffleSplit створюємо 2 піддатасети з навчальною та тестовими данними, відповідно перемішавши їх._"
   ]
  },
  {
   "cell_type": "code",
   "execution_count": 50,
   "id": "b3dec3d3",
   "metadata": {},
   "outputs": [],
   "source": [
    "model_lr = LinearRegression()"
   ]
  },
  {
   "cell_type": "code",
   "execution_count": 104,
   "id": "a663109f",
   "metadata": {},
   "outputs": [
    {
     "name": "stdout",
     "output_type": "stream",
     "text": [
      "[23 14  1 10 13  8  6 18  4  9  7 20  3  0 21 15 12] [ 5  2 19 16 11 22 17 24]\n",
      "[23 10 13  1 24  3  2  0 17 15  5 21 16 19 20  9  8] [14 12  7  4 18 11 22  6]\n"
     ]
    }
   ],
   "source": [
    "ss = ShuffleSplit(n_splits=2, test_size=0.30, random_state=0)\n",
    "for train_index, test_index in ss.split(X):\n",
    "     print(\"%s %s\" % (train_index, test_index))"
   ]
  },
  {
   "cell_type": "code",
   "execution_count": 105,
   "id": "cebbaeea",
   "metadata": {
    "scrolled": false
   },
   "outputs": [
    {
     "name": "stdout",
     "output_type": "stream",
     "text": [
      "Scores for each fold: [0.95682111 0.95253318]\n"
     ]
    },
    {
     "data": {
      "text/plain": [
       "0.9546771471763069"
      ]
     },
     "execution_count": 105,
     "metadata": {},
     "output_type": "execute_result"
    }
   ],
   "source": [
    "score = cross_val_score(model_lr, X, y, cv= ss)\n",
    "print(f'Scores for each fold: {score}')\n",
    "score.mean()"
   ]
  },
  {
   "cell_type": "code",
   "execution_count": 106,
   "id": "be90159e",
   "metadata": {},
   "outputs": [],
   "source": [
    "def rmse(score):\n",
    "    rmse = np.sqrt(-score)\n",
    "    print(f'rmse= {\"{:.2f}\".format(rmse)}')"
   ]
  },
  {
   "cell_type": "code",
   "execution_count": 107,
   "id": "7aacdcd3",
   "metadata": {},
   "outputs": [
    {
     "name": "stdout",
     "output_type": "stream",
     "text": [
      "Scores for each fold: [-22.96509721 -22.38060379]\n",
      "rmse= 4.76\n"
     ]
    }
   ],
   "source": [
    "score = cross_val_score(model_lr, X, y, cv= ss, scoring=\"neg_mean_squared_error\")\n",
    "print(f'Scores for each fold: {score}')\n",
    "rmse(score.mean())"
   ]
  },
  {
   "cell_type": "code",
   "execution_count": null,
   "id": "29e5464d",
   "metadata": {},
   "outputs": [],
   "source": []
  },
  {
   "cell_type": "markdown",
   "id": "f29d2f23",
   "metadata": {},
   "source": [
    "## Висновок"
   ]
  },
  {
   "cell_type": "markdown",
   "id": "993f948e",
   "metadata": {},
   "source": [
    "В данному прикладі використовую метод ShuffleSplit, оскільки маємо маленьку вибірку , та за допомогою цього метода , є можливість більш тонкої настройки гіперпараметрів для кросс валідації, на відміну від KFold валідації."
   ]
  }
 ],
 "metadata": {
  "kernelspec": {
   "display_name": "Python 3 (ipykernel)",
   "language": "python",
   "name": "python3"
  },
  "language_info": {
   "codemirror_mode": {
    "name": "ipython",
    "version": 3
   },
   "file_extension": ".py",
   "mimetype": "text/x-python",
   "name": "python",
   "nbconvert_exporter": "python",
   "pygments_lexer": "ipython3",
   "version": "3.10.11"
  }
 },
 "nbformat": 4,
 "nbformat_minor": 5
}
