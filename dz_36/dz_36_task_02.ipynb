{
 "cells": [
  {
   "cell_type": "markdown",
   "id": "352c94db",
   "metadata": {},
   "source": [
    "## _К-кратна крос-валідація_"
   ]
  },
  {
   "cell_type": "code",
   "execution_count": 105,
   "id": "779d472c",
   "metadata": {},
   "outputs": [],
   "source": [
    "%matplotlib inline\n",
    "import numpy as np\n",
    "import pandas as pd\n",
    "import sklearn\n",
    "from sklearn import linear_model\n",
    "from sklearn.preprocessing import scale\n",
    "import seaborn as sb\n",
    "sb.set_style('whitegrid')\n",
    "from collections import Counter\n",
    "from sklearn.metrics import mean_absolute_error, mean_squared_error\n",
    "from sklearn.model_selection import KFold, StratifiedKFold, cross_val_score, ShuffleSplit"
   ]
  },
  {
   "cell_type": "markdown",
   "id": "891808da",
   "metadata": {},
   "source": [
    "_Вигружаємо данні до датасету_"
   ]
  },
  {
   "cell_type": "code",
   "execution_count": 3,
   "id": "5d4630fa",
   "metadata": {},
   "outputs": [
    {
     "data": {
      "text/html": [
       "<div>\n",
       "<style scoped>\n",
       "    .dataframe tbody tr th:only-of-type {\n",
       "        vertical-align: middle;\n",
       "    }\n",
       "\n",
       "    .dataframe tbody tr th {\n",
       "        vertical-align: top;\n",
       "    }\n",
       "\n",
       "    .dataframe thead th {\n",
       "        text-align: right;\n",
       "    }\n",
       "</style>\n",
       "<table border=\"1\" class=\"dataframe\">\n",
       "  <thead>\n",
       "    <tr style=\"text-align: right;\">\n",
       "      <th></th>\n",
       "      <th>Petrol_tax</th>\n",
       "      <th>Average_income</th>\n",
       "      <th>Paved_Highways</th>\n",
       "      <th>Population_Driver_licence(%)</th>\n",
       "      <th>Petrol_Consumption</th>\n",
       "    </tr>\n",
       "  </thead>\n",
       "  <tbody>\n",
       "    <tr>\n",
       "      <th>0</th>\n",
       "      <td>9.0</td>\n",
       "      <td>3571</td>\n",
       "      <td>1976</td>\n",
       "      <td>0.525</td>\n",
       "      <td>541</td>\n",
       "    </tr>\n",
       "    <tr>\n",
       "      <th>1</th>\n",
       "      <td>9.0</td>\n",
       "      <td>4092</td>\n",
       "      <td>1250</td>\n",
       "      <td>0.572</td>\n",
       "      <td>524</td>\n",
       "    </tr>\n",
       "    <tr>\n",
       "      <th>2</th>\n",
       "      <td>9.0</td>\n",
       "      <td>3865</td>\n",
       "      <td>1586</td>\n",
       "      <td>0.580</td>\n",
       "      <td>561</td>\n",
       "    </tr>\n",
       "    <tr>\n",
       "      <th>3</th>\n",
       "      <td>7.5</td>\n",
       "      <td>4870</td>\n",
       "      <td>2351</td>\n",
       "      <td>0.529</td>\n",
       "      <td>414</td>\n",
       "    </tr>\n",
       "    <tr>\n",
       "      <th>4</th>\n",
       "      <td>8.0</td>\n",
       "      <td>4399</td>\n",
       "      <td>431</td>\n",
       "      <td>0.544</td>\n",
       "      <td>410</td>\n",
       "    </tr>\n",
       "  </tbody>\n",
       "</table>\n",
       "</div>"
      ],
      "text/plain": [
       "   Petrol_tax  Average_income  Paved_Highways  Population_Driver_licence(%)  \\\n",
       "0         9.0            3571            1976                         0.525   \n",
       "1         9.0            4092            1250                         0.572   \n",
       "2         9.0            3865            1586                         0.580   \n",
       "3         7.5            4870            2351                         0.529   \n",
       "4         8.0            4399             431                         0.544   \n",
       "\n",
       "   Petrol_Consumption  \n",
       "0                 541  \n",
       "1                 524  \n",
       "2                 561  \n",
       "3                 414  \n",
       "4                 410  "
      ]
     },
     "execution_count": 3,
     "metadata": {},
     "output_type": "execute_result"
    }
   ],
   "source": [
    "df = pd.read_csv('petrol_consumption.csv')\n",
    "df.head(5)"
   ]
  },
  {
   "cell_type": "markdown",
   "id": "c3aee5be",
   "metadata": {},
   "source": [
    "_Переіменовуємо колинки, для кращого розуміння_"
   ]
  },
  {
   "cell_type": "code",
   "execution_count": 4,
   "id": "a831a8d6",
   "metadata": {},
   "outputs": [
    {
     "data": {
      "text/html": [
       "<div>\n",
       "<style scoped>\n",
       "    .dataframe tbody tr th:only-of-type {\n",
       "        vertical-align: middle;\n",
       "    }\n",
       "\n",
       "    .dataframe tbody tr th {\n",
       "        vertical-align: top;\n",
       "    }\n",
       "\n",
       "    .dataframe thead th {\n",
       "        text-align: right;\n",
       "    }\n",
       "</style>\n",
       "<table border=\"1\" class=\"dataframe\">\n",
       "  <thead>\n",
       "    <tr style=\"text-align: right;\">\n",
       "      <th></th>\n",
       "      <th>Податок на бензин</th>\n",
       "      <th>Середній дохід</th>\n",
       "      <th>Протяжність автобамів</th>\n",
       "      <th>Відсоток водійських прав</th>\n",
       "      <th>Розхід палива</th>\n",
       "    </tr>\n",
       "  </thead>\n",
       "  <tbody>\n",
       "    <tr>\n",
       "      <th>0</th>\n",
       "      <td>9.0</td>\n",
       "      <td>3571</td>\n",
       "      <td>1976</td>\n",
       "      <td>0.525</td>\n",
       "      <td>541</td>\n",
       "    </tr>\n",
       "    <tr>\n",
       "      <th>1</th>\n",
       "      <td>9.0</td>\n",
       "      <td>4092</td>\n",
       "      <td>1250</td>\n",
       "      <td>0.572</td>\n",
       "      <td>524</td>\n",
       "    </tr>\n",
       "    <tr>\n",
       "      <th>2</th>\n",
       "      <td>9.0</td>\n",
       "      <td>3865</td>\n",
       "      <td>1586</td>\n",
       "      <td>0.580</td>\n",
       "      <td>561</td>\n",
       "    </tr>\n",
       "    <tr>\n",
       "      <th>3</th>\n",
       "      <td>7.5</td>\n",
       "      <td>4870</td>\n",
       "      <td>2351</td>\n",
       "      <td>0.529</td>\n",
       "      <td>414</td>\n",
       "    </tr>\n",
       "    <tr>\n",
       "      <th>4</th>\n",
       "      <td>8.0</td>\n",
       "      <td>4399</td>\n",
       "      <td>431</td>\n",
       "      <td>0.544</td>\n",
       "      <td>410</td>\n",
       "    </tr>\n",
       "  </tbody>\n",
       "</table>\n",
       "</div>"
      ],
      "text/plain": [
       "   Податок на бензин  Середній дохід  Протяжність автобамів  \\\n",
       "0                9.0            3571                   1976   \n",
       "1                9.0            4092                   1250   \n",
       "2                9.0            3865                   1586   \n",
       "3                7.5            4870                   2351   \n",
       "4                8.0            4399                    431   \n",
       "\n",
       "   Відсоток водійських прав  Розхід палива  \n",
       "0                     0.525            541  \n",
       "1                     0.572            524  \n",
       "2                     0.580            561  \n",
       "3                     0.529            414  \n",
       "4                     0.544            410  "
      ]
     },
     "execution_count": 4,
     "metadata": {},
     "output_type": "execute_result"
    }
   ],
   "source": [
    "df.columns = ['Податок на бензин','Середній дохід','Протяжність автобамів','Відсоток водійських прав','Розхід палива']\n",
    "df.head(5)"
   ]
  },
  {
   "cell_type": "markdown",
   "id": "4a964431",
   "metadata": {},
   "source": [
    "_Будуємо ддіаграми розсіювання для даних датасету, для знаходження візуальних  задежностей_"
   ]
  },
  {
   "cell_type": "markdown",
   "id": "e2e3829e",
   "metadata": {},
   "source": [
    "_Будуємо матрицю корелятивних зв'язків між змінними , та виводимо на heatmap_"
   ]
  },
  {
   "cell_type": "code",
   "execution_count": 6,
   "id": "70157599",
   "metadata": {},
   "outputs": [
    {
     "data": {
      "text/html": [
       "<div>\n",
       "<style scoped>\n",
       "    .dataframe tbody tr th:only-of-type {\n",
       "        vertical-align: middle;\n",
       "    }\n",
       "\n",
       "    .dataframe tbody tr th {\n",
       "        vertical-align: top;\n",
       "    }\n",
       "\n",
       "    .dataframe thead th {\n",
       "        text-align: right;\n",
       "    }\n",
       "</style>\n",
       "<table border=\"1\" class=\"dataframe\">\n",
       "  <thead>\n",
       "    <tr style=\"text-align: right;\">\n",
       "      <th></th>\n",
       "      <th>Податок на бензин</th>\n",
       "      <th>Середній дохід</th>\n",
       "      <th>Протяжність автобамів</th>\n",
       "      <th>Відсоток водійських прав</th>\n",
       "      <th>Розхід палива</th>\n",
       "    </tr>\n",
       "  </thead>\n",
       "  <tbody>\n",
       "    <tr>\n",
       "      <th>Податок на бензин</th>\n",
       "      <td>1.000000</td>\n",
       "      <td>0.012665</td>\n",
       "      <td>-0.522130</td>\n",
       "      <td>-0.288037</td>\n",
       "      <td>-0.451280</td>\n",
       "    </tr>\n",
       "    <tr>\n",
       "      <th>Середній дохід</th>\n",
       "      <td>0.012665</td>\n",
       "      <td>1.000000</td>\n",
       "      <td>0.050163</td>\n",
       "      <td>0.157070</td>\n",
       "      <td>-0.244862</td>\n",
       "    </tr>\n",
       "    <tr>\n",
       "      <th>Протяжність автобамів</th>\n",
       "      <td>-0.522130</td>\n",
       "      <td>0.050163</td>\n",
       "      <td>1.000000</td>\n",
       "      <td>-0.064129</td>\n",
       "      <td>0.019042</td>\n",
       "    </tr>\n",
       "    <tr>\n",
       "      <th>Відсоток водійських прав</th>\n",
       "      <td>-0.288037</td>\n",
       "      <td>0.157070</td>\n",
       "      <td>-0.064129</td>\n",
       "      <td>1.000000</td>\n",
       "      <td>0.698965</td>\n",
       "    </tr>\n",
       "    <tr>\n",
       "      <th>Розхід палива</th>\n",
       "      <td>-0.451280</td>\n",
       "      <td>-0.244862</td>\n",
       "      <td>0.019042</td>\n",
       "      <td>0.698965</td>\n",
       "      <td>1.000000</td>\n",
       "    </tr>\n",
       "  </tbody>\n",
       "</table>\n",
       "</div>"
      ],
      "text/plain": [
       "                          Податок на бензин  Середній дохід  \\\n",
       "Податок на бензин                  1.000000        0.012665   \n",
       "Середній дохід                     0.012665        1.000000   \n",
       "Протяжність автобамів             -0.522130        0.050163   \n",
       "Відсоток водійських прав          -0.288037        0.157070   \n",
       "Розхід палива                     -0.451280       -0.244862   \n",
       "\n",
       "                          Протяжність автобамів  Відсоток водійських прав  \\\n",
       "Податок на бензин                     -0.522130                 -0.288037   \n",
       "Середній дохід                         0.050163                  0.157070   \n",
       "Протяжність автобамів                  1.000000                 -0.064129   \n",
       "Відсоток водійських прав              -0.064129                  1.000000   \n",
       "Розхід палива                          0.019042                  0.698965   \n",
       "\n",
       "                          Розхід палива  \n",
       "Податок на бензин             -0.451280  \n",
       "Середній дохід                -0.244862  \n",
       "Протяжність автобамів          0.019042  \n",
       "Відсоток водійських прав       0.698965  \n",
       "Розхід палива                  1.000000  "
      ]
     },
     "execution_count": 6,
     "metadata": {},
     "output_type": "execute_result"
    }
   ],
   "source": [
    "df_corr = df.corr()\n",
    "df_corr"
   ]
  },
  {
   "cell_type": "code",
   "execution_count": 7,
   "id": "b0d0fe27",
   "metadata": {},
   "outputs": [
    {
     "data": {
      "text/plain": [
       "<Axes: >"
      ]
     },
     "execution_count": 7,
     "metadata": {},
     "output_type": "execute_result"
    },
    {
     "data": {
      "image/png": "[encoded data removed]",
      "text/plain": [
       "<Figure size 640x480 with 2 Axes>"
      ]
     },
     "metadata": {},
     "output_type": "display_data"
    }
   ],
   "source": [
    "sb.heatmap(df_corr,annot=True)"
   ]
  },
  {
   "cell_type": "markdown",
   "id": "b2d6b07c",
   "metadata": {},
   "source": [
    "__На основі цих данних можно зробити висновок, що найбільші корелятивні зв'язки існують між предикторами та  шукомою величиною у (-0.45,-0.24,0.7) відповідно, що є добрим показником.__\n",
    "\n",
    "___Також є зв'язок між предикторами  \"Протяжність автобамів\" та \"Податок на бензин\" (-0.52) . Згідно логіки мали би виключити з датасету серію \"Протяжність автобамів\",  але емпіричним шляхом виявив , що включення данної серії до навчання моделі, дає кращі показник детермінації.___ "
   ]
  },
  {
   "cell_type": "code",
   "execution_count": 8,
   "id": "a2e35678",
   "metadata": {},
   "outputs": [],
   "source": [
    "data = df[['Податок на бензин','Середній дохід','Відсоток водійських прав','Протяжність автобамів']].values\n",
    "target  = df[['Розхід палива']].values\n",
    "data_names = ['Податок на бензин','Середній дохід','Відсоток водійських прав','Протяжність автобамів']\n",
    "\n",
    "X, y = scale(data), target"
   ]
  },
  {
   "cell_type": "code",
   "execution_count": 16,
   "id": "df5a929c",
   "metadata": {},
   "outputs": [
    {
     "data": {
      "text/plain": [
       "(48, 4)"
      ]
     },
     "execution_count": 16,
     "metadata": {},
     "output_type": "execute_result"
    }
   ],
   "source": [
    "X.shape"
   ]
  },
  {
   "cell_type": "markdown",
   "id": "0e97cdca",
   "metadata": {},
   "source": [
    "_Також робимо перевірку на наявність пустих значень_"
   ]
  },
  {
   "cell_type": "code",
   "execution_count": 9,
   "id": "3ee1c8c2",
   "metadata": {},
   "outputs": [
    {
     "data": {
      "text/plain": [
       "array([], dtype=float64)"
      ]
     },
     "execution_count": 9,
     "metadata": {},
     "output_type": "execute_result"
    }
   ],
   "source": [
    "missing = X == np.NaN\n",
    "X[missing==True]"
   ]
  },
  {
   "cell_type": "markdown",
   "id": "52c8244e",
   "metadata": {},
   "source": [
    "_Будуємо та навчаємо модель_"
   ]
  },
  {
   "cell_type": "code",
   "execution_count": 50,
   "id": "53323cf3",
   "metadata": {},
   "outputs": [],
   "source": [
    "model_mlreg = LinearRegression()"
   ]
  },
  {
   "cell_type": "code",
   "execution_count": 162,
   "id": "6d60d4b9",
   "metadata": {
    "scrolled": true
   },
   "outputs": [
    {
     "name": "stdout",
     "output_type": "stream",
     "text": [
      "[ 2 46 18 15 28 22 16 41 20 42  8 13 25  5 17 35 14 38  1 12 43 24  6 23\n",
      " 36 21 19  9 39 45  3  0 44] [29  4 26 30 32 37 34 40  7 10 11 31 33 27 47]\n",
      "[27 45 29 47 12 43 24 40 18 14 44 46  6  3 25  9  7 33  1 31  4 15 17  5\n",
      " 36 41  0 34 28 11 35 23 10] [30 39 42 32 22 38  2 19 26  8 37 13 20 21 16]\n",
      "[32 37 20 17 22 14 45 28 38 39 25  2 27 23 26 11 18 10 42  9 21 13 40  3\n",
      " 29 34 36 46 30  5 31  0 35] [44 47 41 16 12 43  7 33 19 24  8  6 15  4  1]\n",
      "[35  1 37 41 16 44 23 25 22 11 39 32  4  0 14 29 12 42 43 26 38 31 19  8\n",
      " 46 34 45  3  2 24 30 13 40] [33 21 17 47 10 18 15  7  5  6  9 36 20 27 28]\n",
      "[ 7 17 36 14 19  2 28 46 33 43 34 10 20  8 41  0 45 23  5 22 12 44 18  3\n",
      " 47 24 31  1 29 38 11 15 40] [30 32  4  6 21 35 42 39 26 27 16 25 13 37  9]\n",
      "[35  2 32 31 18 22  7 29 30  4 20 42 27 43  3 39 17  1  8 16 41 46 11  0\n",
      " 36 40  5 47 24 45 34 44 33] [ 6 28  9 38 10 19 25 26 21 37 23 14 13 12 15]\n",
      "[40  4 11 47 38 13  7 34 31 37 23 14 39 41 33  8 19  3 24 30 16 22  0 17\n",
      " 28 44 27 32 25  9 21 46 29] [15 36  5  1 26 45 20 42 12 43  2 35  6 10 18]\n"
     ]
    }
   ],
   "source": [
    "kf =ShuffleSplit(n_splits=7, test_size=0.3, random_state=0)\n",
    "for train, test in kf.split(X,y):\n",
    "    print(\"%s %s\" % (train, test))"
   ]
  },
  {
   "cell_type": "code",
   "execution_count": 163,
   "id": "5615df44",
   "metadata": {},
   "outputs": [
    {
     "name": "stdout",
     "output_type": "stream",
     "text": [
      "Scores for each fold: [0.29357534 0.52502479 0.74959878 0.79015616 0.62070817 0.41991901\n",
      " 0.81668481]\n"
     ]
    },
    {
     "data": {
      "text/plain": [
       "0.6022381516650392"
      ]
     },
     "execution_count": 163,
     "metadata": {},
     "output_type": "execute_result"
    }
   ],
   "source": [
    "score = cross_val_score(linear_model.LinearRegression(), X, y, cv= kf)\n",
    "print(f'Scores for each fold: {score}')\n",
    "score.mean()"
   ]
  },
  {
   "cell_type": "code",
   "execution_count": 164,
   "id": "a8cf6b88",
   "metadata": {},
   "outputs": [],
   "source": [
    "def rmse(score):\n",
    "    rmse = np.sqrt(-score)\n",
    "    print(f'rmse= {\"{:.2f}\".format(rmse)}')"
   ]
  },
  {
   "cell_type": "code",
   "execution_count": 165,
   "id": "6040231e",
   "metadata": {},
   "outputs": [
    {
     "name": "stdout",
     "output_type": "stream",
     "text": [
      "Scores for each fold: [-3673.20727069 -6500.9835706  -3141.38239073 -2943.70249104\n",
      " -6925.71043972 -3723.33618133 -2220.69157275]\n",
      "rmse= 64.51\n"
     ]
    }
   ],
   "source": [
    "score = cross_val_score(linear_model.LinearRegression(), X, y, cv= kf, scoring=\"neg_mean_squared_error\")\n",
    "print(f'Scores for each fold: {score}')\n",
    "rmse(score.mean())"
   ]
  },
  {
   "cell_type": "markdown",
   "id": "004e72f1",
   "metadata": {},
   "source": [
    "## Висновок"
   ]
  },
  {
   "cell_type": "markdown",
   "id": "8675f726",
   "metadata": {},
   "source": [
    "В данному прикладі також  використовую метод ShuffleSplit, оскільки маємо маленьку вибірку , та за допомогою цього метода , є можливість більш тонкої настройки гіперпараметрів для кросс валідації, на відміну від KFold та StratifiedKFold валідації."
   ]
  }
 ],
 "metadata": {
  "kernelspec": {
   "display_name": "Python 3 (ipykernel)",
   "language": "python",
   "name": "python3"
  },
  "language_info": {
   "codemirror_mode": {
    "name": "ipython",
    "version": 3
   },
   "file_extension": ".py",
   "mimetype": "text/x-python",
   "name": "python",
   "nbconvert_exporter": "python",
   "pygments_lexer": "ipython3",
   "version": "3.10.11"
  }
 },
 "nbformat": 4,
 "nbformat_minor": 5
}
